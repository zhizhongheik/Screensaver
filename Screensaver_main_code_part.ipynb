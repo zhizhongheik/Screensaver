{
 "cells": [
  {
   "cell_type": "markdown",
   "metadata": {},
   "source": [
    "## Install library\n",
    "\n",
    "we need install all the necessary libraries from requirements.txt \n",
    "```console\n",
    "pip install -r requirements.txt\n",
    "```"
   ]
  },
  {
   "cell_type": "markdown",
   "metadata": {},
   "source": [
    "## Import library"
   ]
  },
  {
   "cell_type": "code",
   "execution_count": 3,
   "metadata": {},
   "outputs": [
    {
     "name": "stdout",
     "output_type": "stream",
     "text": [
      "pygame 2.5.2 (SDL 2.28.3, Python 3.11.0)\n",
      "Hello from the pygame community. https://www.pygame.org/contribute.html\n"
     ]
    }
   ],
   "source": [
    "import pygame\n",
    "import random"
   ]
  },
  {
   "cell_type": "markdown",
   "metadata": {},
   "source": [
    "## Added new codes for meteorites and suns\n",
    "\n",
    "I used a yellow circle placed in the upper left corner as the sun, and added meteorites like stars flying outward from the center of the screen."
   ]
  },
  {
   "cell_type": "code",
   "execution_count": 5,
   "metadata": {},
   "outputs": [],
   "source": [
    "screen_width = screen_height = 600\n",
    "number_of_stars = 50\n",
    "speed = 0.1\n",
    "stars = []\n",
    "\n",
    "number_of_meteors = 10\n",
    "meteors = []\n",
    "\n",
    "pygame.init()\n",
    "screen = pygame.display.set_mode((screen_width, screen_height))\n",
    "done = False\n",
    "\n",
    "\n",
    "\n",
    "def new_star() -> list:\n",
    "    star = [0, 0, 0, 0]\n",
    "    star[0] = random.randint(-screen_width // 2, screen_width // 2)\n",
    "    star[1] = random.randint(-screen_height // 2, screen_height // 2)\n",
    "    star[2] = 256\n",
    "    star[3] = 0    \n",
    "    return star\n",
    "\n",
    "\n",
    "def new_meteor() -> list:\n",
    "    meteor = [0, 0, 0]\n",
    "    meteor[0] = random.randint(-screen_width // 2, screen_width // 2)\n",
    "    meteor[1] = random.randint(-screen_height // 2, screen_height // 2)\n",
    "    meteor[2] = 0.005    \n",
    "    return meteor\n",
    "\n",
    "\n",
    "for i in range(0, number_of_stars):\t\t\n",
    "    stars.append(new_star())\n",
    "for i in range(0, number_of_meteors):\n",
    "    meteors.append(new_meteor())\n",
    "\n",
    "while not done:\n",
    "    for event in pygame.event.get():\n",
    "        if event.type == pygame.QUIT:\n",
    "            done = True\n",
    "\n",
    "    screen.fill((0, 0, 0))\n",
    "\n",
    "    for i in range(0, number_of_stars):\t\t\n",
    "        s = stars[i]\n",
    "        \n",
    "        def move_and_check(star:list) -> list:\n",
    "            x = star[0]*256 / star[2]\n",
    "            y = star[1]*256 / star[2]\n",
    "\n",
    "            star[2] -= speed \n",
    "\n",
    "    \n",
    "            if x < -screen_width // 2 or x > screen_width // 2 or y < -screen_height // 2 or y > screen_height // 2:\n",
    "                star = new_star()  \n",
    "    \n",
    "            if star[2] < 150:\n",
    "                 star[3] += 2  \n",
    "    \n",
    "   \n",
    "            if star[3] > 255:\t\t\t\n",
    "                 star[3] = 255\n",
    "\n",
    "            return star\n",
    "\n",
    "\n",
    "        s = move_and_check(s)\n",
    "        stars[i] = s\n",
    "\n",
    "        \n",
    "        def draw_star(star:list) -> None:\n",
    "\n",
    "            x = int(star[0]*256/star[2] + screen_width//2)\n",
    "            y = int(screen_height//2 - star[1]*256/star[2])\n",
    "\n",
    "            pygame.draw.circle(screen, (star[3], star[3], star[3]), (x, y), 1)\n",
    "\n",
    "        draw_star(s)\n",
    "\n",
    "\n",
    "    for i in range(number_of_meteors):\n",
    "        m = meteors[i]\n",
    "        m[0] += m[2]\n",
    "        if m[0] > screen_height:\n",
    "            meteors[i] = new_meteor()\n",
    "        else:\n",
    "            pygame.draw.circle(screen, (100, 50, 0), (m[0], int(m[1])), 5)\n",
    "    \n",
    "    sun_x = 50 \n",
    "    sun_y = 50 \n",
    "    sun_radius = 30 \n",
    "    sun_color = (255, 220, 0) \n",
    "    pygame.draw.circle(screen, sun_color, (sun_x, sun_y), sun_radius)\n",
    "\n",
    "    pygame.display.flip()\n",
    "\n",
    "pygame.quit()"
   ]
  }
 ],
 "metadata": {
  "kernelspec": {
   "display_name": "Python 3",
   "language": "python",
   "name": "python3"
  },
  "language_info": {
   "codemirror_mode": {
    "name": "ipython",
    "version": 3
   },
   "file_extension": ".py",
   "mimetype": "text/x-python",
   "name": "python",
   "nbconvert_exporter": "python",
   "pygments_lexer": "ipython3",
   "version": "3.11.0"
  }
 },
 "nbformat": 4,
 "nbformat_minor": 2
}
